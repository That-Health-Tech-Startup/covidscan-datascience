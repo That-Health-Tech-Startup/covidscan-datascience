{
 "cells": [
  {
   "cell_type": "code",
   "execution_count": 123,
   "metadata": {},
   "outputs": [
    {
     "name": "stderr",
     "output_type": "stream",
     "text": [
      "Using TensorFlow backend.\n"
     ]
    }
   ],
   "source": [
    "import tensorflow as tf\n",
    "import IPython.display as display\n",
    "from PIL import Image\n",
    "import numpy as np\n",
    "import matplotlib.pyplot as plt\n",
    "import cv2\n",
    "import os\n",
    "import glob\n",
    "from keras.preprocessing.image import ImageDataGenerator, load_img\n",
    "from keras.models import Sequential\n",
    "from keras.layers import Conv2D, MaxPooling2D\n",
    "from keras.layers import Activation, Dropout, Flatten, Dense\n",
    "\n",
    "import matplotlib.pyplot as plt\n",
    "import matplotlib.image as mpimg\n",
    "import pandas as pd\n",
    "import seaborn as sns\n",
    "from mlxtend.plotting import plot_confusion_matrix\n",
    "from sklearn.metrics import confusion_matrix\n",
    "from keras import backend as K\n",
    "import numpy as np"
   ]
  },
  {
   "cell_type": "code",
   "execution_count": 164,
   "metadata": {},
   "outputs": [],
   "source": [
    "# Define path to the data directory\n",
    "data_dir = Path('Desktop/covid_19/X_rays_VS_No_X_rays')\n",
    "\n",
    "# Path to train directory (Fancy pathlib...no more os.path!!)\n",
    "train_dir = data_dir / 'train'\n",
    "\n",
    "# Path to validation directory\n",
    "val_dir = data_dir / 'val'\n",
    "\n",
    "# Path to test directory\n",
    "test_dir = data_dir / 'test'"
   ]
  },
  {
   "cell_type": "code",
   "execution_count": 128,
   "metadata": {},
   "outputs": [],
   "source": [
    "types = ('*.jpg', '*.jpeg') # the tuple of file types\n"
   ]
  },
  {
   "cell_type": "code",
   "execution_count": 130,
   "metadata": {},
   "outputs": [],
   "source": [
    "# dimensions of our images.\n",
    "img_width, img_height = 150, 150"
   ]
  },
  {
   "cell_type": "code",
   "execution_count": 131,
   "metadata": {},
   "outputs": [],
   "source": [
    "train_data_dir = 'Desktop/covid_19/X_rays_VS_No_X_rays/train'\n",
    "validation_data_dir = 'Desktop/covid_19/X_rays_VS_No_X_rays/val'\n",
    "test_data_dir = 'Desktop/covid_19/X_rays_VS_No_X_rays/test'\n",
    "\n",
    "nb_train_samples = 5217\n",
    "nb_validation_samples = 17\n",
    "epochs = 20\n",
    "batch_size = 16"
   ]
  },
  {
   "cell_type": "code",
   "execution_count": 132,
   "metadata": {},
   "outputs": [],
   "source": [
    "# this is the augmentation configuration we will use for training\n",
    "train_datagen = ImageDataGenerator(\n",
    "    rescale=1. / 255,\n",
    "    shear_range=0.2,\n",
    "    zoom_range=0.2,\n",
    "    horizontal_flip=True)"
   ]
  },
  {
   "cell_type": "code",
   "execution_count": 133,
   "metadata": {},
   "outputs": [],
   "source": [
    "# this is the augmentation configuration we will use for testing:\n",
    "# only rescaling\n",
    "test_datagen = ImageDataGenerator(rescale=1. / 255)"
   ]
  },
  {
   "cell_type": "code",
   "execution_count": 134,
   "metadata": {},
   "outputs": [
    {
     "name": "stdout",
     "output_type": "stream",
     "text": [
      "Found 2150 images belonging to 2 classes.\n"
     ]
    }
   ],
   "source": [
    "train_generator = train_datagen.flow_from_directory(\n",
    "    train_data_dir,\n",
    "    target_size=(img_width, img_height),\n",
    "    batch_size=batch_size,\n",
    "    class_mode='binary')"
   ]
  },
  {
   "cell_type": "code",
   "execution_count": 135,
   "metadata": {},
   "outputs": [
    {
     "name": "stdout",
     "output_type": "stream",
     "text": [
      "Found 126 images belonging to 2 classes.\n"
     ]
    }
   ],
   "source": [
    "validation_generator = test_datagen.flow_from_directory(\n",
    "    validation_data_dir,\n",
    "    target_size=(img_width, img_height),\n",
    "    batch_size=batch_size,\n",
    "    class_mode='binary')"
   ]
  },
  {
   "cell_type": "code",
   "execution_count": 136,
   "metadata": {},
   "outputs": [
    {
     "name": "stdout",
     "output_type": "stream",
     "text": [
      "Found 634 images belonging to 2 classes.\n"
     ]
    }
   ],
   "source": [
    "test_generator = test_datagen.flow_from_directory(\n",
    "    test_data_dir,\n",
    "    target_size=(img_width, img_height),\n",
    "    batch_size=batch_size,\n",
    "    class_mode='binary')"
   ]
  },
  {
   "cell_type": "code",
   "execution_count": 140,
   "metadata": {},
   "outputs": [],
   "source": [
    "if K.image_data_format() == 'channels_first':\n",
    "    input_shape = (3, img_width, img_height)\n",
    "else:\n",
    "    input_shape = (img_width, img_height, 3)"
   ]
  },
  {
   "cell_type": "markdown",
   "metadata": {},
   "source": [
    "### Create Sequential model"
   ]
  },
  {
   "cell_type": "code",
   "execution_count": 141,
   "metadata": {},
   "outputs": [],
   "source": [
    "model = Sequential()\n",
    "model.add(Conv2D(32, (3, 3), input_shape=input_shape))\n",
    "model.add(Activation('relu'))\n",
    "model.add(MaxPooling2D(pool_size=(2, 2)))\n",
    "\n",
    "model.add(Conv2D(32, (3, 3)))\n",
    "model.add(Activation('relu'))\n",
    "model.add(MaxPooling2D(pool_size=(2, 2)))\n",
    "\n",
    "model.add(Conv2D(64, (3, 3)))\n",
    "model.add(Activation('relu'))\n",
    "model.add(MaxPooling2D(pool_size=(2, 2)))\n",
    "\n",
    "model.add(Flatten())\n",
    "model.add(Dense(64))\n",
    "model.add(Activation('relu'))\n",
    "model.add(Dropout(0.5))\n",
    "model.add(Dense(1))\n",
    "model.add(Activation('sigmoid'))"
   ]
  },
  {
   "cell_type": "markdown",
   "metadata": {},
   "source": [
    "### Check information about model"
   ]
  },
  {
   "cell_type": "code",
   "execution_count": 142,
   "metadata": {},
   "outputs": [
    {
     "data": {
      "text/plain": [
       "[<keras.layers.convolutional.Conv2D at 0x168be3950>,\n",
       " <keras.layers.core.Activation at 0x168c17dd0>,\n",
       " <keras.layers.pooling.MaxPooling2D at 0x1666b9a50>,\n",
       " <keras.layers.convolutional.Conv2D at 0x168c179d0>,\n",
       " <keras.layers.core.Activation at 0x103921ed0>,\n",
       " <keras.layers.pooling.MaxPooling2D at 0x168c43c90>,\n",
       " <keras.layers.convolutional.Conv2D at 0x168ca2290>,\n",
       " <keras.layers.core.Activation at 0x168d0e210>,\n",
       " <keras.layers.pooling.MaxPooling2D at 0x168d0ecd0>,\n",
       " <keras.layers.core.Flatten at 0x168d150d0>,\n",
       " <keras.layers.core.Dense at 0x168d15d50>,\n",
       " <keras.layers.core.Activation at 0x168d0e710>,\n",
       " <keras.layers.core.Dropout at 0x168d1bf90>,\n",
       " <keras.layers.core.Dense at 0x168d0e6d0>,\n",
       " <keras.layers.core.Activation at 0x168d0e410>]"
      ]
     },
     "execution_count": 142,
     "metadata": {},
     "output_type": "execute_result"
    }
   ],
   "source": [
    "model.layers"
   ]
  },
  {
   "cell_type": "code",
   "execution_count": 143,
   "metadata": {},
   "outputs": [
    {
     "data": {
      "text/plain": [
       "<tf.Tensor 'conv2d_1_input:0' shape=(None, 150, 150, 3) dtype=float32>"
      ]
     },
     "execution_count": 143,
     "metadata": {},
     "output_type": "execute_result"
    }
   ],
   "source": [
    "model.input"
   ]
  },
  {
   "cell_type": "code",
   "execution_count": 144,
   "metadata": {},
   "outputs": [
    {
     "data": {
      "text/plain": [
       "<tf.Tensor 'activation_5/Sigmoid:0' shape=(None, 1) dtype=float32>"
      ]
     },
     "execution_count": 144,
     "metadata": {},
     "output_type": "execute_result"
    }
   ],
   "source": [
    "model.output"
   ]
  },
  {
   "cell_type": "code",
   "execution_count": 145,
   "metadata": {},
   "outputs": [],
   "source": [
    "model.compile(loss='binary_crossentropy',\n",
    "              optimizer='rmsprop',\n",
    "              metrics=['accuracy'])"
   ]
  },
  {
   "cell_type": "markdown",
   "metadata": {},
   "source": [
    "### Fit Model"
   ]
  },
  {
   "cell_type": "code",
   "execution_count": 146,
   "metadata": {},
   "outputs": [
    {
     "name": "stdout",
     "output_type": "stream",
     "text": [
      "Epoch 1/20\n",
      "326/326 [==============================] - 125s 385ms/step - loss: 0.1275 - accuracy: 0.9583 - val_loss: 0.5296 - val_accuracy: 0.9375\n",
      "Epoch 2/20\n",
      "326/326 [==============================] - 119s 364ms/step - loss: 0.1262 - accuracy: 0.9856 - val_loss: 1.0960e-05 - val_accuracy: 1.0000\n",
      "Epoch 3/20\n",
      "326/326 [==============================] - 119s 366ms/step - loss: 0.1034 - accuracy: 0.9911 - val_loss: 0.0078 - val_accuracy: 1.0000\n",
      "Epoch 4/20\n",
      "326/326 [==============================] - 129s 395ms/step - loss: 0.0420 - accuracy: 0.9915 - val_loss: 2.0153e-06 - val_accuracy: 1.0000\n",
      "Epoch 5/20\n",
      "326/326 [==============================] - 128s 393ms/step - loss: 0.0876 - accuracy: 0.9927 - val_loss: 4.0225e-13 - val_accuracy: 1.0000\n",
      "Epoch 6/20\n",
      "326/326 [==============================] - 115s 353ms/step - loss: 0.0678 - accuracy: 0.9929 - val_loss: 0.0048 - val_accuracy: 1.0000\n",
      "Epoch 7/20\n",
      "326/326 [==============================] - 128s 393ms/step - loss: 0.1199 - accuracy: 0.9892 - val_loss: 6.7099e-07 - val_accuracy: 1.0000\n",
      "Epoch 8/20\n",
      "326/326 [==============================] - 136s 417ms/step - loss: 0.0965 - accuracy: 0.9906 - val_loss: 2.2210e-05 - val_accuracy: 1.0000\n",
      "Epoch 9/20\n",
      "326/326 [==============================] - 140s 430ms/step - loss: 0.0875 - accuracy: 0.9906 - val_loss: 1.6004e-07 - val_accuracy: 1.0000\n",
      "Epoch 10/20\n",
      "326/326 [==============================] - 135s 415ms/step - loss: 0.0892 - accuracy: 0.9907 - val_loss: 3.7380e-05 - val_accuracy: 1.0000\n",
      "Epoch 11/20\n",
      "326/326 [==============================] - 136s 417ms/step - loss: 0.0850 - accuracy: 0.9931 - val_loss: 3.2973e-08 - val_accuracy: 1.0000\n",
      "Epoch 12/20\n",
      "326/326 [==============================] - 139s 426ms/step - loss: 0.1248 - accuracy: 0.9923 - val_loss: 5.1027e-06 - val_accuracy: 1.0000\n",
      "Epoch 13/20\n",
      "326/326 [==============================] - 137s 420ms/step - loss: 0.0653 - accuracy: 0.9921 - val_loss: 0.0446 - val_accuracy: 1.0000\n",
      "Epoch 14/20\n",
      "326/326 [==============================] - 141s 433ms/step - loss: 0.1141 - accuracy: 0.9931 - val_loss: 0.0058 - val_accuracy: 1.0000\n",
      "Epoch 15/20\n",
      "326/326 [==============================] - 136s 416ms/step - loss: 0.1392 - accuracy: 0.9929 - val_loss: 9.2207e-06 - val_accuracy: 1.0000\n",
      "Epoch 16/20\n",
      "326/326 [==============================] - 124s 381ms/step - loss: 0.1188 - accuracy: 0.9865 - val_loss: 1.0733e-10 - val_accuracy: 1.0000\n",
      "Epoch 17/20\n",
      "326/326 [==============================] - 114s 349ms/step - loss: 0.0730 - accuracy: 0.9929 - val_loss: 1.3516e-06 - val_accuracy: 1.0000\n",
      "Epoch 18/20\n",
      "326/326 [==============================] - 109s 335ms/step - loss: 0.1219 - accuracy: 0.9894 - val_loss: 1.0251e-09 - val_accuracy: 1.0000\n",
      "Epoch 19/20\n",
      "326/326 [==============================] - 119s 365ms/step - loss: 0.1028 - accuracy: 0.9937 - val_loss: 4.5217e-16 - val_accuracy: 1.0000\n",
      "Epoch 20/20\n",
      "326/326 [==============================] - 136s 417ms/step - loss: 0.1263 - accuracy: 0.9884 - val_loss: 1.4791e-05 - val_accuracy: 1.0000\n"
     ]
    },
    {
     "data": {
      "text/plain": [
       "<keras.callbacks.callbacks.History at 0x169c4f550>"
      ]
     },
     "execution_count": 146,
     "metadata": {},
     "output_type": "execute_result"
    }
   ],
   "source": [
    "model.fit_generator(\n",
    "    train_generator,\n",
    "    steps_per_epoch=nb_train_samples // batch_size,\n",
    "    epochs=epochs,\n",
    "    validation_data=validation_generator,\n",
    "    validation_steps=nb_validation_samples // batch_size)"
   ]
  },
  {
   "cell_type": "markdown",
   "metadata": {},
   "source": [
    "### Save model`s weights"
   ]
  },
  {
   "cell_type": "code",
   "execution_count": 147,
   "metadata": {},
   "outputs": [],
   "source": [
    "model.save_weights('first_try.h5')"
   ]
  },
  {
   "cell_type": "code",
   "execution_count": 148,
   "metadata": {},
   "outputs": [
    {
     "name": "stdout",
     "output_type": "stream",
     "text": [
      "\n",
      "accuracy: 98.90%\n"
     ]
    }
   ],
   "source": [
    "# evaluate the model\n",
    "scores = model.evaluate_generator(test_generator)\n",
    "print(\"\\n%s: %.2f%%\" % (model.metrics_names[1], scores[1]*100))"
   ]
  },
  {
   "cell_type": "code",
   "execution_count": 159,
   "metadata": {},
   "outputs": [],
   "source": [
    "filenames = test_generator.filenames\n",
    "nb_samples = len(filenames)\n",
    "\n",
    "predict = model.predict_generator(test_generator,steps = nb_samples)"
   ]
  },
  {
   "cell_type": "markdown",
   "metadata": {},
   "source": [
    "# Checking"
   ]
  },
  {
   "cell_type": "code",
   "execution_count": 191,
   "metadata": {},
   "outputs": [],
   "source": [
    "test_data_dir = Path('Desktop/covid_19/X_rays_VS_No_X_rays/test')\n"
   ]
  },
  {
   "cell_type": "code",
   "execution_count": 192,
   "metadata": {},
   "outputs": [],
   "source": [
    "# Path to test directory\n",
    "test_dir_xrays = test_data_dir / 'xrays'\n",
    "test_dir_no_xrays = test_data_dir / 'no_xrays'"
   ]
  },
  {
   "cell_type": "code",
   "execution_count": 193,
   "metadata": {},
   "outputs": [],
   "source": [
    "# Get the list of all the images\n",
    "no_xrays = test_dir_no_xrays.glob('*.jpg')\n",
    "\n",
    "xrays = test_dir_xrays.glob('*.jpg')\n",
    "xrays1 = test_dir_xrays.glob('*.jpeg')"
   ]
  },
  {
   "cell_type": "code",
   "execution_count": 187,
   "metadata": {},
   "outputs": [],
   "source": [
    "from keras.utils import to_categorical\n"
   ]
  },
  {
   "cell_type": "code",
   "execution_count": 194,
   "metadata": {},
   "outputs": [
    {
     "name": "stdout",
     "output_type": "stream",
     "text": [
      "Total number of test examples:  (359, 150, 150, 3)\n",
      "Total number of labels: (359, 2)\n"
     ]
    }
   ],
   "source": [
    "test_data = []\n",
    "test_labels = []\n",
    "\n",
    "for img in no_xrays:\n",
    "    img = cv2.imread(str(img))\n",
    "    img = cv2.resize(img, (150,150))\n",
    "    if img.shape[2] ==1:\n",
    "        img = np.dstack([img, img, img])\n",
    "    else:\n",
    "        img = cv2.cvtColor(img, cv2.COLOR_BGR2RGB)\n",
    "    img = img.astype(np.float32)/255.\n",
    "    label = to_categorical(0, num_classes=2)\n",
    "    test_data.append(img)\n",
    "    test_labels.append(label)\n",
    "                      \n",
    "for img in xrays:\n",
    "    img = cv2.imread(str(img))\n",
    "    img = cv2.resize(img, (150,150))\n",
    "    if img.shape[2] ==1:\n",
    "        img = np.dstack([img, img, img])\n",
    "    else:\n",
    "        img = cv2.cvtColor(img, cv2.COLOR_BGR2RGB)\n",
    "    img = img.astype(np.float32)/255.\n",
    "    label = to_categorical(1, num_classes=2)\n",
    "    test_data.append(img)\n",
    "    test_labels.append(label)\n",
    "    \n",
    "\n",
    "test_data = np.array(test_data)\n",
    "test_labels = np.array(test_labels)\n",
    "\n",
    "print(\"Total number of test examples: \", test_data.shape)\n",
    "print(\"Total number of labels:\", test_labels.shape)"
   ]
  },
  {
   "cell_type": "code",
   "execution_count": 197,
   "metadata": {},
   "outputs": [
    {
     "name": "stdout",
     "output_type": "stream",
     "text": [
      "(359,)\n",
      "(359,)\n"
     ]
    }
   ],
   "source": [
    "preds = model.predict(test_data, batch_size=16)\n",
    "preds = np.argmax(preds, axis=-1)\n",
    "\n",
    "# Original labels\n",
    "orig_test_labels = np.argmax(test_labels, axis=-1)\n",
    "\n",
    "print(orig_test_labels.shape)\n",
    "print(preds.shape)"
   ]
  },
  {
   "cell_type": "code",
   "execution_count": 214,
   "metadata": {},
   "outputs": [
    {
     "data": {
      "text/plain": [
       "<Figure size 432x288 with 0 Axes>"
      ]
     },
     "metadata": {},
     "output_type": "display_data"
    },
    {
     "data": {
      "image/png": "[encoded data removed]",
      "text/plain": [
       "<Figure size 864x576 with 1 Axes>"
      ]
     },
     "metadata": {
      "needs_background": "light"
     },
     "output_type": "display_data"
    }
   ],
   "source": [
    "# Get the confusion matrix\n",
    "cm  = confusion_matrix(orig_test_labels, preds)\n",
    "plt.figure()\n",
    "plot_confusion_matrix(cm,figsize=(12,8), hide_ticks=True,cmap=plt.cm.Blues)\n",
    "plt.xticks(range(2), ['no_xrays', 'Xrays'], fontsize=16)\n",
    "plt.yticks(range(2), ['no_xrays', 'Xrays'], fontsize=16)\n",
    "plt.show()"
   ]
  },
  {
   "cell_type": "code",
   "execution_count": 213,
   "metadata": {},
   "outputs": [
    {
     "name": "stdout",
     "output_type": "stream",
     "text": [
      "Recall of the model is 0.00\n",
      "Precision of the model is nan\n"
     ]
    },
    {
     "name": "stderr",
     "output_type": "stream",
     "text": [
      "/Users/anastasia/opt/anaconda3/lib/python3.7/site-packages/ipykernel_launcher.py:4: RuntimeWarning: invalid value encountered in long_scalars\n",
      "  after removing the cwd from sys.path.\n"
     ]
    }
   ],
   "source": [
    "# Calculate Precision and Recall\n",
    "tn, fp, fn, tp = cm.ravel()\n",
    "\n",
    "precision = tp/(tp+fp)\n",
    "recall = tp/(tp+fn)\n",
    "\n",
    "print(\"Recall of the model is {:.2f}\".format(recall))\n",
    "print(\"Precision of the model is {:.2f}\".format(precision))"
   ]
  },
  {
   "cell_type": "code",
   "execution_count": null,
   "metadata": {},
   "outputs": [],
   "source": []
  }
 ],
 "metadata": {
  "kernelspec": {
   "display_name": "Python 3",
   "language": "python",
   "name": "python3"
  },
  "language_info": {
   "codemirror_mode": {
    "name": "ipython",
    "version": 3
   },
   "file_extension": ".py",
   "mimetype": "text/x-python",
   "name": "python",
   "nbconvert_exporter": "python",
   "pygments_lexer": "ipython3",
   "version": "3.7.4"
  }
 },
 "nbformat": 4,
 "nbformat_minor": 2
}
