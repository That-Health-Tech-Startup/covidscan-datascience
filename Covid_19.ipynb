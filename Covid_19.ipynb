{
 "cells": [
  {
   "cell_type": "markdown",
   "metadata": {},
   "source": [
    "shutil.copy() method in Python is used to copy the content of source file to destination file or directory\n",
    "Syntax: shutil.copy(source, destination, *, follow_symlinks = True)"
   ]
  },
  {
   "cell_type": "markdown",
   "metadata": {},
   "source": [
    "Dataset has been taken from here: https://github.com/ieee8023/covid-chestxray-dataset"
   ]
  },
  {
   "cell_type": "code",
   "execution_count": 1,
   "metadata": {},
   "outputs": [],
   "source": [
    "import os\n",
    "import matplotlib.pyplot as plt\n",
    "\n",
    "import tensorflow as tf\n",
    "from tensorflow.keras.applications import MobileNetV2, DenseNet201, ResNet101V2\n",
    "from tensorflow.keras.layers import Input, Dense, Dropout, Flatten, AveragePooling2D\n",
    "from tensorflow.keras.models import Model\n",
    "from tensorflow.keras.optimizers import Adam\n",
    "from tensorflow.keras.utils import to_categorical"
   ]
  },
  {
   "cell_type": "markdown",
   "metadata": {},
   "source": [
    "# Data"
   ]
  },
  {
   "cell_type": "markdown",
   "metadata": {},
   "source": [
    "There are a few different views:\n",
    "\n",
    "for X-rays:\n",
    "\n",
    "- Posteroanterior (PA)\n",
    "- Anteroposterior (AP)\n",
    "- AP Supine (APS)\n",
    "- Lateral (L)  \n",
    "\n",
    "for CT scans:\n",
    "\n",
    "- Axial\n",
    "- Coronal \n",
    "\n",
    "https://github.com/ieee8023/covid-chestxray-dataset/blob/master/SCHEMA.md"
   ]
  },
  {
   "cell_type": "markdown",
   "metadata": {},
   "source": [
    "# Building the Dataset"
   ]
  },
  {
   "cell_type": "markdown",
   "metadata": {},
   "source": [
    "So far, I have 2 folders: images_covid That contains only covid x-rays, clean_data - contains only clean x-rays (from kaggle)\n"
   ]
  },
  {
   "cell_type": "markdown",
   "metadata": {},
   "source": [
    "As the parameter in the constructor, it receives a path to the data. This parameter is used to create a so-called listed dataset. Essentially we utilize the list_files method from the tf.data.Dataset to load a list of all images from the given folder. This method uses pattern matching that is why we added ‘/*/*’ after the path to the data. The DataProcessor class has three private and one public method:"
   ]
  },
  {
   "cell_type": "code",
   "execution_count": 2,
   "metadata": {},
   "outputs": [],
   "source": [
    "data_location = 'Desktop/covid_19/covid-chestxray-dataset-master/two_folders'\n",
    "CLASS_NAMES = ['covid_data', 'clean_data']\n",
    "IMAGE_SHAPE = (224, 224, 3)\n",
    "BATCH_SIZE = 8\n",
    "EPOCHS = 10\n",
    "DATASET_SIZE = sum([len(files) for r, d, files in os.walk(data_location)])"
   ]
  },
  {
   "cell_type": "code",
   "execution_count": 3,
   "metadata": {},
   "outputs": [],
   "source": [
    "from pathlib import Path\n",
    "class DataProcessor():\n",
    "    def __init__(self, data_location):\n",
    "        #where_to_look = Path(f\"{data_location}\")\n",
    "        #print(list(where_to_look.glob('./*/*')))\n",
    "        #for file in where_to_look.iterdir():\n",
    "           # print(file)\n",
    "        self.labeled_dataset = tf.data.Dataset.list_files(f\"{data_location}/*/*\")\n",
    "        \n",
    "    # _get_label – Based on the location of the data this method extracts the label. \n",
    "    # In our case, the labels are ‘covid-19’ and ‘healthy’ because those are the folders \n",
    "    # that we have created. Also, we created CLASS_NAMES global, which contains the same information.\n",
    "    \n",
    "    def _get_label(self, file_path):\n",
    "        parts = tf.strings.split(file_path, os.path.sep)\n",
    "        #print(parts[-2] == CLASS_NAMES)\n",
    "        result = [0.0, 1.0]\n",
    "        if parts[-2] == 'covid_data':\n",
    "            result = [1.0, 0.0]\n",
    "        return result\n",
    "    \n",
    "    # _decode_image – Loads image into memory and resize it. This is controlled by another global IMAGE_SHAPE. \n",
    "    # We use 256 x 256 size for each of the images, so we can help models to perform better.\n",
    "    \n",
    "    def _decode_image(self, img):\n",
    "        img = tf.image.decode_jpeg(img, channels=3)\n",
    "        img = tf.image.convert_image_dtype(img, tf.float32)\n",
    "        return tf.image.resize(img, [IMAGE_SHAPE[0], IMAGE_SHAPE[1]])\n",
    "    \n",
    "    # _pre_proces_images – Utilizes previous methods and returns label and pre-processed image.\n",
    "    \n",
    "    def _pre_proces_images(self, file_path):\n",
    "        #print(file_path)\n",
    "        label = self._get_label(file_path)\n",
    "        img = tf.io.read_file(file_path)\n",
    "        img = self._decode_image(img)\n",
    "        \n",
    "        return img, label\n",
    "    \n",
    "    # prepare_dataset – This is the most important method of this class. \n",
    "    # Basically, this method loads all images and it’s label and creates a unified dataset from them. \n",
    "    # It also shuffles them and splits them into train, validation and test datasets.\n",
    "    \n",
    "    def prepare_dataset(self):\n",
    "        #print(\"prepare dataset\")\n",
    "        self.labeled_dataset = self.labeled_dataset.map(self._pre_proces_images)\n",
    "        self.labeled_dataset = self.labeled_dataset.cache()\n",
    "        self.labeled_dataset = self.labeled_dataset.shuffle(buffer_size=DATASET_SIZE+1)\n",
    "        self.labeled_dataset = self.labeled_dataset.repeat()\n",
    "        self.labeled_dataset = self.labeled_dataset.batch(BATCH_SIZE)\n",
    "        self.labeled_dataset = self.labeled_dataset.prefetch(buffer_size= tf.data.experimental.AUTOTUNE)\n",
    "        \n",
    "        train_size = int(0.7 * DATASET_SIZE)\n",
    "        val_size = int(0.15 * DATASET_SIZE)\n",
    "        test_size = int(0.15 * DATASET_SIZE)\n",
    "        \n",
    "        train_dataset = self.labeled_dataset.take(train_size)\n",
    "        test_dataset = self.labeled_dataset.skip(train_size)\n",
    "        val_dataset = test_dataset.skip(test_size)\n",
    "        test_dataset = test_dataset.take(test_size)\n",
    "        \n",
    "        return train_dataset, test_dataset, val_dataset"
   ]
  },
  {
   "cell_type": "code",
   "execution_count": 4,
   "metadata": {},
   "outputs": [],
   "source": [
    "# Finally, we can utilize this class like this:\n",
    "\n",
    "processor = DataProcessor(data_location)\n",
    "train_dataset, test_dataset, val_dataset = processor.prepare_dataset()\n",
    "#for train_batch_img, train_batch_labels in test_dataset:\n",
    "#    print(train_batch_labels[0])"
   ]
  },
  {
   "cell_type": "markdown",
   "metadata": {},
   "source": [
    "As the output, we have prepared datasets ready to be processed by architectures we are about to create."
   ]
  },
  {
   "cell_type": "markdown",
   "metadata": {},
   "source": [
    "# Building and Training Models"
   ]
  },
  {
   "cell_type": "markdown",
   "metadata": {},
   "source": [
    "Let’s start with the *Wrapper* class. This class is used to receive a **base model**, which we load from the TensorFlow, and **adds additional layers** on top of them. To be more clear, since large architectures are **hard** to train, TensorFlow provides a number of **pre-trained** models which you can use like VGG16, ResNet, DenseNet, etc. These models have calculated **weights** trained on the ImageNet dataset. However, the top layers of these models can be **removed**, and we can add layers that are necessary for our **specific** problems. That way we can utilize lower levels of these models, because on these levels networks detect features like straight line or curve, and at the same time change higher levels to detect specific features. Here is what the Wrapper class looks like:\n",
    "\n"
   ]
  },
  {
   "cell_type": "code",
   "execution_count": 5,
   "metadata": {},
   "outputs": [],
   "source": [
    "import os\n",
    "os.environ['CUDA_VISIBLE_DEVICES'] = '-1'\n",
    "import tensorflow as tf\n",
    "\n",
    "IMAGE_SHAPE = (224, 224, 3)\n",
    "BATCH_SIZE = 5\n",
    "DATA_SET_SIZE = 3000\n",
    "steps_per_epoch = DATASET_SIZE//BATCH_SIZE\n",
    "validation_steps = 20\n",
    "base_learning_rate = 0.0001"
   ]
  },
  {
   "cell_type": "code",
   "execution_count": 6,
   "metadata": {},
   "outputs": [],
   "source": [
    "def create_resnet_model():\n",
    "   \n",
    "   pretrined_resnet = ResNet101V2(input_shape=IMAGE_SHAPE, include_top=False, weights='imagenet')\n",
    "   pretrined_resnet.trainable = False\n",
    "   current_layer = pretrined_resnet.output\n",
    "   current_layer = tf.keras.layers.AveragePooling2D()(current_layer)\n",
    "   current_layer = tf.keras.layers.Flatten()(current_layer)\n",
    "   current_layer = tf.keras.layers.Dense(64, activation=\"relu\")(current_layer)\n",
    "   current_layer = tf.keras.layers.Dropout(0.5)(current_layer)\n",
    "   current_layer = tf.keras.layers.Dense(2, activation=\"softmax\")(current_layer)\n",
    " \n",
    "   our_model = tf.keras.models.Model(inputs=pretrined_resnet.input, outputs=current_layer)\n",
    " \n",
    "   our_model.compile(optimizer=tf.keras.optimizers.Adam(lr=base_learning_rate),\n",
    "                     loss='binary_crossentropy', metrics=['accuracy'])\n",
    "   return our_model"
   ]
  },
  {
   "cell_type": "code",
   "execution_count": 7,
   "metadata": {},
   "outputs": [],
   "source": [
    "def create_densenet_model():\n",
    "    pretrined_densenet = DenseNet201(input_shape=IMAGE_SHAPE, include_top=False, weights='imagenet')\n",
    "    pretrined_densenet.trainable = False\n",
    "    dens_layer = pretrined_densenet.output\n",
    "    dens_layer = tf.keras.layers.AveragePooling2D()(dens_layer)\n",
    "    dens_layer = tf.keras.layers.Flatten()(dens_layer)\n",
    "    dens_layer = tf.keras.layers.Dense(64, activation=\"relu\")(dens_layer)\n",
    "    dens_layer = tf.keras.layers.Dropout(0.5)(dens_layer)\n",
    "    dens_layer = tf.keras.layers.Dense(2, activation=\"softmax\")(dens_layer)\n",
    "    \n",
    "    dens_model = tf.keras.models.Model(inputs=pretrined_densenet.input, outputs=dens_layer)\n",
    "    \n",
    "    dens_model.compile(optimizer=Adam(lr=base_learning_rate), loss='binary_crossentropy', metrics=['accuracy'])\n",
    "    \n",
    "    return dens_model"
   ]
  },
  {
   "cell_type": "code",
   "execution_count": 8,
   "metadata": {},
   "outputs": [],
   "source": [
    "def create_mobile_net_model():\n",
    "    pretrined_mobile_net = MobileNetV2(input_shape=IMAGE_SHAPE, include_top=False, weights='imagenet')\n",
    "    pretrined_mobile_net.trainable = False\n",
    "    mobile_net_layer = pretrined_mobile_net.output\n",
    "    mobile_net_layer = tf.keras.layers.AveragePooling2D()(mobile_net_layer)\n",
    "    mobile_net_layer = tf.keras.layers.Flatten()(mobile_net_layer)\n",
    "    mobile_net_layer = tf.keras.layers.Dense(64, activation=\"relu\")(mobile_net_layer)\n",
    "    mobile_net_layer = tf.keras.layers.Dropout(0.5)(mobile_net_layer)\n",
    "    mobile_net_layer = tf.keras.layers.Dense(2, activation=\"softmax\")(mobile_net_layer)\n",
    "    \n",
    "    mobile_net_model = tf.keras.models.Model(inputs=pretrined_mobile_net.input, outputs=mobile_net_layer)\n",
    "    \n",
    "    mobile_net_model.compile(optimizer=Adam(lr=base_learning_rate), loss='binary_crossentropy', metrics=['accuracy'])\n",
    "    \n",
    "    return mobile_net_model"
   ]
  },
  {
   "cell_type": "code",
   "execution_count": 9,
   "metadata": {},
   "outputs": [],
   "source": [
    "#class Wrapper(tf.keras.Model):\n",
    " #   def __init__(self, base_model):\n",
    "  #      super(Wrapper, self).__init__()\n",
    "   #     \n",
    "    #    self.base_model = base_model\n",
    "     #   self.average_pooling_layer = AveragePooling2D(name=\"polling\")\n",
    "      #  self.flatten = Flatten(name=\"flatten\")\n",
    "       # self.dense = Dense(64, activation=\"relu\")\n",
    "#        self.dropout = Dropout(0.5)\n",
    " #       self.output_layer = Dense(2, activation=\"softmax\")\n",
    "  #      \n",
    "   # def call(self, inputs):\n",
    "    #    x = self.base_model(inputs)\n",
    "     #   x = self.average_pooling_layer(x)\n",
    "      #  x = self.flatten(x)\n",
    "      #  x = self.dense(x)\n",
    "      #  x = self.dropout(x)\n",
    "      #  output = self.output_layer(x)\n",
    "      #  return output\n"
   ]
  },
  {
   "cell_type": "markdown",
   "metadata": {},
   "source": [
    "In essence, it uses the passed pre-trained model (base_model) and adds Average Pooling, Flattening, Dropout and 2 Dense layers. Note that output is Dense layer with two nodes because we have two classes – covid-19 and healthy. Now we can load pre-trained models like this:"
   ]
  },
  {
   "cell_type": "code",
   "execution_count": 10,
   "metadata": {},
   "outputs": [
    {
     "data": {
      "text/plain": [
       "\"\\nbase_learning_rate = 0.0001\\nsteps_per_epoch = DATASET_SIZE//BATCH_SIZE\\nvalidation_steps = 20\\n\\nmobile_net = MobileNetV2(input_shape=IMAGE_SHAPE, include_top=False, weights='imagenet')\\nmobile_net.trainable = False\\nmobile = Wrapper(mobile_net)\\nmobile.compile(Adam(lr=base_learning_rate),\\n              loss='binary_crossentropy',\\n              metrics=['accuracy'])\\n\\nres_net = ResNet101V2(input_shape=IMAGE_SHAPE, include_top=False, weights='imagenet')\\nres_net.trainable = False\\nres = Wrapper(res_net)\\nres.compile(optimizer=Adam(lr=base_learning_rate),\\n              loss='binary_crossentropy',\\n              metrics=['accuracy'])\\n\\ndense_net = DenseNet201(input_shape=IMAGE_SHAPE, include_top=False, weights='imagenet')\\ndense_net.trainable = False\\ndense = Wrapper(dense_net)\\ndense.compile(optimizer=Adam(lr=base_learning_rate),\\n              loss='binary_crossentropy',\\n              metrics=['accuracy'])\\n\""
      ]
     },
     "execution_count": 10,
     "metadata": {},
     "output_type": "execute_result"
    }
   ],
   "source": [
    "'''\n",
    "base_learning_rate = 0.0001\n",
    "steps_per_epoch = DATASET_SIZE//BATCH_SIZE\n",
    "validation_steps = 20\n",
    "\n",
    "mobile_net = MobileNetV2(input_shape=IMAGE_SHAPE, include_top=False, weights='imagenet')\n",
    "mobile_net.trainable = False\n",
    "mobile = Wrapper(mobile_net)\n",
    "mobile.compile(Adam(lr=base_learning_rate),\n",
    "              loss='binary_crossentropy',\n",
    "              metrics=['accuracy'])\n",
    "\n",
    "res_net = ResNet101V2(input_shape=IMAGE_SHAPE, include_top=False, weights='imagenet')\n",
    "res_net.trainable = False\n",
    "res = Wrapper(res_net)\n",
    "res.compile(optimizer=Adam(lr=base_learning_rate),\n",
    "              loss='binary_crossentropy',\n",
    "              metrics=['accuracy'])\n",
    "\n",
    "dense_net = DenseNet201(input_shape=IMAGE_SHAPE, include_top=False, weights='imagenet')\n",
    "dense_net.trainable = False\n",
    "dense = Wrapper(dense_net)\n",
    "dense.compile(optimizer=Adam(lr=base_learning_rate),\n",
    "              loss='binary_crossentropy',\n",
    "              metrics=['accuracy'])\n",
    "'''"
   ]
  },
  {
   "cell_type": "markdown",
   "metadata": {},
   "source": [
    "We loaded and compiled **three architectures**: MobileNet, ResNet and DenseNet. Note that for each of these architectures we have set the trainable parameter to False, which means that base models are not trained during the training process, but **only** the additional layers we have added. Now we can run training for each of these models:"
   ]
  },
  {
   "cell_type": "code",
   "execution_count": 9,
   "metadata": {},
   "outputs": [],
   "source": [
    "resnet = create_resnet_model()"
   ]
  },
  {
   "cell_type": "code",
   "execution_count": 10,
   "metadata": {},
   "outputs": [
    {
     "name": "stdout",
     "output_type": "stream",
     "text": [
      "Train for 316 steps, validate for 20 steps\n",
      "Epoch 1/10\n",
      "316/316 [==============================] - 498s 2s/step - loss: 0.1235 - accuracy: 0.9545 - val_loss: 1.2490 - val_accuracy: 0.7437\n",
      "Epoch 2/10\n",
      "316/316 [==============================] - 454s 1s/step - loss: 0.0292 - accuracy: 0.9913 - val_loss: 1.7637 - val_accuracy: 0.7188\n",
      "Epoch 3/10\n",
      "316/316 [==============================] - 511s 2s/step - loss: 0.0181 - accuracy: 0.9925 - val_loss: 1.3402 - val_accuracy: 0.7625\n",
      "Epoch 4/10\n",
      "316/316 [==============================] - 658s 2s/step - loss: 0.0175 - accuracy: 0.9949 - val_loss: 0.3802 - val_accuracy: 0.8500\n",
      "Epoch 5/10\n",
      "316/316 [==============================] - 660s 2s/step - loss: 0.0053 - accuracy: 0.9980 - val_loss: 1.6129 - val_accuracy: 0.7000\n",
      "Epoch 6/10\n",
      "316/316 [==============================] - 656s 2s/step - loss: 0.0051 - accuracy: 0.9972 - val_loss: 1.8996 - val_accuracy: 0.6750\n",
      "Epoch 7/10\n",
      "316/316 [==============================] - 654s 2s/step - loss: 0.0025 - accuracy: 0.9996 - val_loss: 0.7755 - val_accuracy: 0.8750\n",
      "Epoch 8/10\n",
      "316/316 [==============================] - 657s 2s/step - loss: 0.0071 - accuracy: 0.9980 - val_loss: 0.8299 - val_accuracy: 0.7688\n",
      "Epoch 9/10\n",
      "316/316 [==============================] - 662s 2s/step - loss: 0.0024 - accuracy: 0.9992 - val_loss: 1.1166 - val_accuracy: 0.7750\n",
      "Epoch 10/10\n",
      "316/316 [==============================] - 653s 2s/step - loss: 0.0072 - accuracy: 0.9968 - val_loss: 2.0103 - val_accuracy: 0.6812\n"
     ]
    }
   ],
   "source": [
    "history_resnet = resnet.fit(train_dataset,\n",
    "                    epochs=EPOCHS,\n",
    "                    validation_data=val_dataset,\n",
    "                    validation_steps=validation_steps)"
   ]
  },
  {
   "cell_type": "code",
   "execution_count": 11,
   "metadata": {},
   "outputs": [],
   "source": [
    "densenet = create_densenet_model()"
   ]
  },
  {
   "cell_type": "code",
   "execution_count": 12,
   "metadata": {},
   "outputs": [
    {
     "name": "stdout",
     "output_type": "stream",
     "text": [
      "Train for 316 steps, validate for 20 steps\n",
      "Epoch 1/10\n",
      "316/316 [==============================] - 885s 3s/step - loss: 0.1413 - accuracy: 0.9411 - val_loss: 0.4003 - val_accuracy: 0.7750\n",
      "Epoch 2/10\n",
      "316/316 [==============================] - 753s 2s/step - loss: 0.0290 - accuracy: 0.9905 - val_loss: 0.2094 - val_accuracy: 0.8875\n",
      "Epoch 3/10\n",
      "316/316 [==============================] - 566s 2s/step - loss: 0.0165 - accuracy: 0.9968 - val_loss: 0.0769 - val_accuracy: 0.9625\n",
      "Epoch 4/10\n",
      "316/316 [==============================] - 636s 2s/step - loss: 0.0077 - accuracy: 0.9980 - val_loss: 0.1842 - val_accuracy: 0.9062\n",
      "Epoch 5/10\n",
      "316/316 [==============================] - 869s 3s/step - loss: 0.0083 - accuracy: 0.9972 - val_loss: 0.1208 - val_accuracy: 0.9438\n",
      "Epoch 6/10\n",
      "316/316 [==============================] - 874s 3s/step - loss: 0.0049 - accuracy: 0.9992 - val_loss: 0.3870 - val_accuracy: 0.8313\n",
      "Epoch 7/10\n",
      "316/316 [==============================] - 865s 3s/step - loss: 0.0086 - accuracy: 0.9972 - val_loss: 0.2074 - val_accuracy: 0.9125\n",
      "Epoch 8/10\n",
      "316/316 [==============================] - 860s 3s/step - loss: 0.0040 - accuracy: 0.9988 - val_loss: 0.0446 - val_accuracy: 0.9937\n",
      "Epoch 9/10\n",
      "316/316 [==============================] - 869s 3s/step - loss: 0.0019 - accuracy: 1.0000 - val_loss: 0.0537 - val_accuracy: 0.9688\n",
      "Epoch 10/10\n",
      "316/316 [==============================] - 865s 3s/step - loss: 0.0021 - accuracy: 0.9996 - val_loss: 0.1233 - val_accuracy: 0.9438\n"
     ]
    }
   ],
   "source": [
    "history_densenet = densenet.fit(train_dataset,\n",
    "                    epochs=EPOCHS,\n",
    "                    validation_data=val_dataset,\n",
    "                    validation_steps=validation_steps)"
   ]
  },
  {
   "cell_type": "code",
   "execution_count": 13,
   "metadata": {},
   "outputs": [],
   "source": [
    "mobile_net = create_mobile_net_model()"
   ]
  },
  {
   "cell_type": "code",
   "execution_count": 14,
   "metadata": {},
   "outputs": [
    {
     "name": "stdout",
     "output_type": "stream",
     "text": [
      "Train for 316 steps, validate for 20 steps\n",
      "Epoch 1/10\n",
      "316/316 [==============================] - 179s 567ms/step - loss: 0.1602 - accuracy: 0.9387 - val_loss: 0.2064 - val_accuracy: 0.9125\n",
      "Epoch 2/10\n",
      "316/316 [==============================] - 175s 554ms/step - loss: 0.0304 - accuracy: 0.9901 - val_loss: 0.1701 - val_accuracy: 0.9438\n",
      "Epoch 3/10\n",
      "316/316 [==============================] - 173s 548ms/step - loss: 0.0184 - accuracy: 0.9921 - val_loss: 0.2131 - val_accuracy: 0.9125\n",
      "Epoch 4/10\n",
      "316/316 [==============================] - 175s 552ms/step - loss: 0.0178 - accuracy: 0.9945 - val_loss: 0.0873 - val_accuracy: 0.9688\n",
      "Epoch 5/10\n",
      "316/316 [==============================] - 174s 552ms/step - loss: 0.0061 - accuracy: 0.9984 - val_loss: 0.1390 - val_accuracy: 0.9500\n",
      "Epoch 6/10\n",
      "316/316 [==============================] - 174s 552ms/step - loss: 0.0049 - accuracy: 0.9980 - val_loss: 0.1787 - val_accuracy: 0.9187\n",
      "Epoch 7/10\n",
      "316/316 [==============================] - 172s 545ms/step - loss: 0.0106 - accuracy: 0.9953 - val_loss: 1.5527 - val_accuracy: 0.6687\n",
      "Epoch 8/10\n",
      "316/316 [==============================] - 174s 550ms/step - loss: 0.0030 - accuracy: 0.9996 - val_loss: 0.8358 - val_accuracy: 0.8000\n",
      "Epoch 9/10\n",
      "316/316 [==============================] - 175s 552ms/step - loss: 0.0079 - accuracy: 0.9980 - val_loss: 0.2763 - val_accuracy: 0.9000\n",
      "Epoch 10/10\n",
      "316/316 [==============================] - 176s 556ms/step - loss: 0.0029 - accuracy: 0.9992 - val_loss: 0.3826 - val_accuracy: 0.8438\n"
     ]
    }
   ],
   "source": [
    "history_mobile = mobile_net.fit(train_dataset,\n",
    "                    epochs=EPOCHS,\n",
    "                    validation_data=val_dataset,\n",
    "                    validation_steps=validation_steps)"
   ]
  },
  {
   "cell_type": "markdown",
   "metadata": {},
   "source": [
    "# Ploting History"
   ]
  },
  {
   "cell_type": "code",
   "execution_count": 15,
   "metadata": {},
   "outputs": [
    {
     "data": {
      "image/png": "[encoded data removed]",
      "text/plain": [
       "<Figure size 432x288 with 1 Axes>"
      ]
     },
     "metadata": {
      "needs_background": "light"
     },
     "output_type": "display_data"
    },
    {
     "data": {
      "image/png": "[encoded data removed]",
      "text/plain": [
       "<Figure size 432x288 with 1 Axes>"
      ]
     },
     "metadata": {
      "needs_background": "light"
     },
     "output_type": "display_data"
    }
   ],
   "source": [
    "plt.plot(history_mobile.history['accuracy'])\n",
    "plt.plot(history_mobile.history['val_accuracy'])\n",
    "plt.title('Model accuracy - Mobile Net')\n",
    "plt.ylabel('Accuracy')\n",
    "plt.xlabel('Epoch')\n",
    "plt.legend(['Train', 'Validation'], loc='upper left')\n",
    "plt.show()\n",
    "\n",
    "plt.plot(history_mobile.history['loss'])\n",
    "plt.plot(history_mobile.history['val_loss'])\n",
    "plt.title('Model loss - Mobile Net')\n",
    "plt.ylabel('loss')\n",
    "plt.xlabel('Epoch')\n",
    "plt.legend(['Train', 'Validation'], loc='upper left')\n",
    "plt.show()\n"
   ]
  },
  {
   "cell_type": "code",
   "execution_count": 16,
   "metadata": {},
   "outputs": [
    {
     "data": {
      "image/png": "[encoded data removed]",
      "text/plain": [
       "<Figure size 432x288 with 1 Axes>"
      ]
     },
     "metadata": {
      "needs_background": "light"
     },
     "output_type": "display_data"
    },
    {
     "data": {
      "image/png": "[encoded data removed]",
      "text/plain": [
       "<Figure size 432x288 with 1 Axes>"
      ]
     },
     "metadata": {
      "needs_background": "light"
     },
     "output_type": "display_data"
    }
   ],
   "source": [
    "plt.plot(history_resnet.history['accuracy'])\n",
    "plt.plot(history_resnet.history['val_accuracy'])\n",
    "plt.title('Model accuracy - ResNet')\n",
    "plt.ylabel('Accuracy')\n",
    "plt.xlabel('Epoch')\n",
    "plt.legend(['Train', 'Validation'], loc='upper left')\n",
    "plt.show()\n",
    "\n",
    "plt.plot(history_resnet.history['loss'])\n",
    "plt.plot(history_resnet.history['val_loss'])\n",
    "plt.title('Model loss - ResNet')\n",
    "plt.ylabel('loss')\n",
    "plt.xlabel('Epoch')\n",
    "plt.legend(['Train', 'Validation'], loc='upper left')\n",
    "plt.show()"
   ]
  },
  {
   "cell_type": "code",
   "execution_count": 17,
   "metadata": {},
   "outputs": [
    {
     "data": {
      "image/png": "[encoded data removed]",
      "text/plain": [
       "<Figure size 432x288 with 1 Axes>"
      ]
     },
     "metadata": {
      "needs_background": "light"
     },
     "output_type": "display_data"
    },
    {
     "data": {
      "image/png": "[encoded data removed]",
      "text/plain": [
       "<Figure size 432x288 with 1 Axes>"
      ]
     },
     "metadata": {
      "needs_background": "light"
     },
     "output_type": "display_data"
    }
   ],
   "source": [
    "plt.plot(history_densenet.history['accuracy'])\n",
    "plt.plot(history_densenet.history['val_accuracy'])\n",
    "plt.title('Model accuracy - Dense Net')\n",
    "plt.ylabel('Accuracy')\n",
    "plt.xlabel('Epoch')\n",
    "plt.legend(['Train', 'Validation'], loc='upper left')\n",
    "plt.show()\n",
    "\n",
    "plt.plot(history_densenet.history['loss'])\n",
    "plt.plot(history_densenet.history['val_loss'])\n",
    "plt.title('Model loss - DenseNet')\n",
    "plt.ylabel('loss')\n",
    "plt.xlabel('Epoch')\n",
    "plt.legend(['Train', 'Validation'], loc='upper left')\n",
    "plt.show()"
   ]
  },
  {
   "cell_type": "markdown",
   "metadata": {},
   "source": [
    "# Evaluation"
   ]
  },
  {
   "cell_type": "code",
   "execution_count": 18,
   "metadata": {},
   "outputs": [
    {
     "name": "stdout",
     "output_type": "stream",
     "text": [
      "20/20 [==============================] - 7s 328ms/step - loss: 0.5612 - accuracy: 0.8188\n",
      "--------MobileNet---------\n",
      "Loss: 0.56\n",
      "Accuracy: 0.82\n",
      "---------------------------\n"
     ]
    }
   ],
   "source": [
    "loss, accuracy = mobile_net.evaluate(test_dataset, steps = validation_steps)\n",
    "\n",
    "print(\"--------MobileNet---------\")\n",
    "print(\"Loss: {:.2f}\".format(loss))\n",
    "print(\"Accuracy: {:.2f}\".format(accuracy))\n",
    "print(\"---------------------------\")"
   ]
  },
  {
   "cell_type": "code",
   "execution_count": 19,
   "metadata": {},
   "outputs": [
    {
     "name": "stdout",
     "output_type": "stream",
     "text": [
      "20/20 [==============================] - 35s 2s/step - loss: 2.0726 - accuracy: 0.6938\n",
      "--------ResNet---------\n",
      "Loss: 2.07\n",
      "Accuracy: 0.69\n",
      "---------------------------\n"
     ]
    }
   ],
   "source": [
    "loss, accuracy = resnet.evaluate(test_dataset, steps = validation_steps)\n",
    "\n",
    "print(\"--------ResNet---------\")\n",
    "print(\"Loss: {:.2f}\".format(loss))\n",
    "print(\"Accuracy: {:.2f}\".format(accuracy))\n",
    "print(\"---------------------------\")"
   ]
  },
  {
   "cell_type": "code",
   "execution_count": 20,
   "metadata": {},
   "outputs": [
    {
     "name": "stdout",
     "output_type": "stream",
     "text": [
      "20/20 [==============================] - 36s 2s/step - loss: 0.0989 - accuracy: 0.9563\n",
      "--------DenseNet---------\n",
      "Loss: 0.10\n",
      "Accuracy: 0.96\n",
      "---------------------------\n"
     ]
    }
   ],
   "source": [
    "loss, accuracy = densenet.evaluate(test_dataset, steps = validation_steps)\n",
    "\n",
    "print(\"--------DenseNet---------\")\n",
    "print(\"Loss: {:.2f}\".format(loss))\n",
    "print(\"Accuracy: {:.2f}\".format(accuracy))\n",
    "print(\"---------------------------\")"
   ]
  },
  {
   "cell_type": "markdown",
   "metadata": {},
   "source": [
    "# Saving Models"
   ]
  },
  {
   "cell_type": "code",
   "execution_count": 22,
   "metadata": {},
   "outputs": [
    {
     "name": "stdout",
     "output_type": "stream",
     "text": [
      "WARNING:tensorflow:From /Users/anastasia/opt/anaconda3/lib/python3.7/site-packages/tensorflow_core/python/ops/resource_variable_ops.py:1786: calling BaseResourceVariable.__init__ (from tensorflow.python.ops.resource_variable_ops) with constraint is deprecated and will be removed in a future version.\n",
      "Instructions for updating:\n",
      "If using Keras pass *_constraint arguments to layers.\n",
      "INFO:tensorflow:Assets written to: ./models_covid19/mobilenet/1/assets\n",
      "INFO:tensorflow:Assets written to: ./models_covid19/resnet/1/assets\n",
      "INFO:tensorflow:Assets written to: ./models_covid19/densenet/1/assets\n"
     ]
    }
   ],
   "source": [
    "tf.saved_model.save(mobile_net, './models_covid19/mobilenet/1')\n",
    "tf.saved_model.save(resnet, './models_covid19/resnet/1')\n",
    "tf.saved_model.save(densenet, './models_covid19/densenet/1')"
   ]
  },
  {
   "cell_type": "code",
   "execution_count": 23,
   "metadata": {},
   "outputs": [],
   "source": [
    "mobile_net.save_weights('mobile_weights.h5')\n",
    "resnet.save_weights('res_weights.h5')\n",
    "densenet.save_weights('dense_weights.h5')"
   ]
  },
  {
   "cell_type": "code",
   "execution_count": null,
   "metadata": {},
   "outputs": [],
   "source": []
  },
  {
   "cell_type": "code",
   "execution_count": null,
   "metadata": {},
   "outputs": [],
   "source": []
  }
 ],
 "metadata": {
  "kernelspec": {
   "display_name": "Python 3",
   "language": "python",
   "name": "python3"
  },
  "language_info": {
   "codemirror_mode": {
    "name": "ipython",
    "version": 3
   },
   "file_extension": ".py",
   "mimetype": "text/x-python",
   "name": "python",
   "nbconvert_exporter": "python",
   "pygments_lexer": "ipython3",
   "version": "3.7.4"
  }
 },
 "nbformat": 4,
 "nbformat_minor": 2
}
