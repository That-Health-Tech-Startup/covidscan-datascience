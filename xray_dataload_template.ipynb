{
 "cells": [
  {
   "cell_type": "code",
   "execution_count": 1,
   "metadata": {},
   "outputs": [],
   "source": [
    "#Get the libraries\n",
    "import numpy as np\n",
    "import tensorflow as tf"
   ]
  },
  {
   "cell_type": "code",
   "execution_count": 2,
   "metadata": {},
   "outputs": [],
   "source": [
    "#Dataset wrapper\n",
    "from torchxrayvision.torchxrayvision import datasets as DS"
   ]
  },
  {
   "cell_type": "code",
   "execution_count": 3,
   "metadata": {},
   "outputs": [],
   "source": [
    "#Image manipulation (same size & rgbs)\n",
    "from skimage.transform import resize\n",
    "from skimage.color import gray2rgb\n",
    "from skimage import io\n",
    "%matplotlib inline\n",
    "\n",
    "INPUT_SHAPE = (299, 299)\n",
    "def make_same_size(img):\n",
    "    resized_image = resize(img[0], INPUT_SHAPE)\n",
    "    return resized_image"
   ]
  },
  {
   "cell_type": "code",
   "execution_count": 4,
   "metadata": {},
   "outputs": [
    {
     "name": "stdout",
     "output_type": "stream",
     "text": [
      "{'ARDS': {0.0: 163, 1.0: 14},\n",
      " 'Bacterial Pneumonia': {0.0: 160, 1.0: 17},\n",
      " 'COVID-19': {0.0: 52, 1.0: 125},\n",
      " 'Chlamydophila': {0.0: 176, 1.0: 1},\n",
      " 'Fungal Pneumonia': {0.0: 164, 1.0: 13},\n",
      " 'Klebsiella': {0.0: 176, 1.0: 1},\n",
      " 'Legionella': {0.0: 175, 1.0: 2},\n",
      " 'MERS': {0.0: 177},\n",
      " 'No Finding': {0.0: 175, 1.0: 2},\n",
      " 'Pneumocystis': {0.0: 164, 1.0: 13},\n",
      " 'Pneumonia': {0.0: 2, 1.0: 175},\n",
      " 'SARS': {0.0: 161, 1.0: 16},\n",
      " 'Streptococcus': {0.0: 164, 1.0: 13},\n",
      " 'Viral Pneumonia': {0.0: 36, 1.0: 141}}\n"
     ]
    },
    {
     "data": {
      "text/plain": [
       "COVID19_Dataset num_samples=177 views=['PA']"
      ]
     },
     "execution_count": 4,
     "metadata": {},
     "output_type": "execute_result"
    }
   ],
   "source": [
    "#COVID data example ( other data available, like Openi_Dataset, NIH_Dataset)\n",
    "# (see datasets.py for full instructions)\n",
    "all_data = DS.COVID19_Dataset(transform=make_same_size, data_aug=gray2rgb)\n",
    "all_data"
   ]
  },
  {
   "cell_type": "code",
   "execution_count": 5,
   "metadata": {},
   "outputs": [],
   "source": [
    "#Prepare Numpy arrays to hold the data\n",
    "data_len = len(all_data)\n",
    "\n",
    "dataset_np_X = np.zeros((data_len, 299, 299, 3))\n",
    "dataset_np_Y = np.zeros((data_len,14))"
   ]
  },
  {
   "cell_type": "code",
   "execution_count": null,
   "metadata": {},
   "outputs": [],
   "source": [
    "# Go through all data copy it into NumPy array\n",
    "for i in range(data_len):\n",
    "    entry = all_data[i]\n",
    "    \n",
    "    dataset_np_X[i] = entry['PA']\n",
    "    dataset_np_Y[i] = entry['lab']"
   ]
  },
  {
   "cell_type": "code",
   "execution_count": null,
   "metadata": {},
   "outputs": [],
   "source": [
    "#Example of X entry\n",
    "io.imshow(dataset_np_X[4])"
   ]
  },
  {
   "cell_type": "code",
   "execution_count": null,
   "metadata": {},
   "outputs": [],
   "source": [
    "#Example of Y (label) entry\n",
    "dataset_np_Y[4]"
   ]
  },
  {
   "cell_type": "code",
   "execution_count": null,
   "metadata": {},
   "outputs": [],
   "source": []
  }
 ],
 "metadata": {
  "kernelspec": {
   "display_name": "Python 3",
   "language": "python",
   "name": "python3"
  },
  "language_info": {
   "codemirror_mode": {
    "name": "ipython",
    "version": 3
   },
   "file_extension": ".py",
   "mimetype": "text/x-python",
   "name": "python",
   "nbconvert_exporter": "python",
   "pygments_lexer": "ipython3",
   "version": "3.7.4"
  }
 },
 "nbformat": 4,
 "nbformat_minor": 2
}
